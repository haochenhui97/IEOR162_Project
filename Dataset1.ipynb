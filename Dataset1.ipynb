{
 "cells": [
  {
   "cell_type": "code",
   "execution_count": 1,
   "metadata": {},
   "outputs": [],
   "source": [
    "from datascience import *\n",
    "import datetime\n",
    "import matplotlib.pyplot as plt\n",
    "import numpy as np\n",
    "\n",
    "%matplotlib inline"
   ]
  },
  {
   "cell_type": "code",
   "execution_count": 2,
   "metadata": {},
   "outputs": [],
   "source": [
    "Vehicle_Shipment_Requirement = Table.read_table('DataSet1/VehicleShipmentRequirement_DataSet1.csv')\n",
    "Ship_Details = Table.read_table('DataSet1/Results Template 4_ShipDetails_DataSet1.csv')\n",
    "VDC = Table.read_table('DataSet1/Results Template 1_VDC_DataSet1.csv')\n",
    "Routing_Details = Table.read_table('DataSet1/Results Template 3_RoutingDetails_DataSet1.csv')\n",
    "Ship_Stops = Table.read_table('DataSet1/Results Template 5_ShipStops_DataSet1.csv')\n",
    "Lead_time = Table.read_table('DataSet1/Results Template 6_Leadtime_DataSet1.csv')"
   ]
  },
  {
   "cell_type": "code",
   "execution_count": 4,
   "metadata": {},
   "outputs": [
    {
     "data": {
      "text/html": [
       "<table border=\"1\" class=\"dataframe\">\n",
       "    <thead>\n",
       "        <tr>\n",
       "            <th>Shipment ID</th> <th>count</th>\n",
       "        </tr>\n",
       "    </thead>\n",
       "    <tbody>\n",
       "        <tr>\n",
       "            <td>1/1/2011-2409-MR-1</td> <td>2    </td>\n",
       "        </tr>\n",
       "        <tr>\n",
       "            <td>1/1/2011-5705-MR-1</td> <td>4    </td>\n",
       "        </tr>\n",
       "        <tr>\n",
       "            <td>1/1/2011-5705-MR-2</td> <td>4    </td>\n",
       "        </tr>\n",
       "        <tr>\n",
       "            <td>1/1/2011-6164-MR-1</td> <td>3    </td>\n",
       "        </tr>\n",
       "        <tr>\n",
       "            <td>1/1/2011-6684-MR-1</td> <td>2    </td>\n",
       "        </tr>\n",
       "        <tr>\n",
       "            <td>1/1/2011-7643-MR-1</td> <td>6    </td>\n",
       "        </tr>\n",
       "        <tr>\n",
       "            <td>1/1/2011-7643-MR-2</td> <td>3    </td>\n",
       "        </tr>\n",
       "        <tr>\n",
       "            <td>1/1/2011-7656-MR-1</td> <td>2    </td>\n",
       "        </tr>\n",
       "        <tr>\n",
       "            <td>1/1/2011-7665-MR-1</td> <td>2    </td>\n",
       "        </tr>\n",
       "        <tr>\n",
       "            <td>1/1/2011-7671-MR-1</td> <td>2    </td>\n",
       "        </tr>\n",
       "    </tbody>\n",
       "</table>\n",
       "<p>... (200796 rows omitted)</p>"
      ],
      "text/plain": [
       "Shipment ID        | count\n",
       "1/1/2011-2409-MR-1 | 2\n",
       "1/1/2011-5705-MR-1 | 4\n",
       "1/1/2011-5705-MR-2 | 4\n",
       "1/1/2011-6164-MR-1 | 3\n",
       "1/1/2011-6684-MR-1 | 2\n",
       "1/1/2011-7643-MR-1 | 6\n",
       "1/1/2011-7643-MR-2 | 3\n",
       "1/1/2011-7656-MR-1 | 2\n",
       "1/1/2011-7665-MR-1 | 2\n",
       "1/1/2011-7671-MR-1 | 2\n",
       "... (200796 rows omitted)"
      ]
     },
     "execution_count": 4,
     "metadata": {},
     "output_type": "execute_result"
    }
   ],
   "source": [
    "Ship_Stops.group('Shipment ID')"
   ]
  },
  {
   "cell_type": "code",
   "execution_count": 5,
   "metadata": {},
   "outputs": [
    {
     "data": {
      "text/html": [
       "<table border=\"1\" class=\"dataframe\">\n",
       "    <thead>\n",
       "        <tr>\n",
       "            <th>Plant</th> <th>count</th>\n",
       "        </tr>\n",
       "    </thead>\n",
       "    <tbody>\n",
       "        <tr>\n",
       "            <td>3A   </td> <td>405124</td>\n",
       "        </tr>\n",
       "        <tr>\n",
       "            <td>FF   </td> <td>277761</td>\n",
       "        </tr>\n",
       "        <tr>\n",
       "            <td>RO   </td> <td>562211</td>\n",
       "        </tr>\n",
       "        <tr>\n",
       "            <td>SO   </td> <td>546335</td>\n",
       "        </tr>\n",
       "    </tbody>\n",
       "</table>"
      ],
      "text/plain": [
       "Plant | count\n",
       "3A    | 405124\n",
       "FF    | 277761\n",
       "RO    | 562211\n",
       "SO    | 546335"
      ]
     },
     "execution_count": 5,
     "metadata": {},
     "output_type": "execute_result"
    }
   ],
   "source": [
    "Vehicle_Shipment_Requirement.group('Plant')"
   ]
  },
  {
   "cell_type": "code",
   "execution_count": 9,
   "metadata": {},
   "outputs": [
    {
     "data": {
      "text/html": [
       "<table border=\"1\" class=\"dataframe\">\n",
       "    <thead>\n",
       "        <tr>\n",
       "            <th>VIN</th> <th>LOC</th> <th>Arrive Time</th> <th>Depart Time</th> <th>Depart Mode</th> <th>Shipment ID</th> <th>Shipment Cost</th>\n",
       "        </tr>\n",
       "    </thead>\n",
       "    <tbody>\n",
       "        <tr>\n",
       "            <td>1      </td> <td>BE  </td> <td>12/23/2011 22:43:00</td> <td>1/1/2012 6:00:00</td> <td>T          </td> <td>1/1/2012-5705-MR-12</td> <td>nan          </td>\n",
       "        </tr>\n",
       "        <tr>\n",
       "            <td>22445  </td> <td>BE  </td> <td>12/23/2011 22:27:00</td> <td>1/1/2012 6:00:00</td> <td>T          </td> <td>1/1/2012-5705-MR-12</td> <td>nan          </td>\n",
       "        </tr>\n",
       "        <tr>\n",
       "            <td>52841  </td> <td>BE  </td> <td>12/27/2011 20:34:00</td> <td>1/1/2012 6:00:00</td> <td>T          </td> <td>1/1/2012-5705-MR-12</td> <td>nan          </td>\n",
       "        </tr>\n",
       "        <tr>\n",
       "            <td>526177 </td> <td>BE  </td> <td>12/27/2011 21:07:00</td> <td>1/1/2012 6:00:00</td> <td>T          </td> <td>1/1/2012-5705-MR-12</td> <td>nan          </td>\n",
       "        </tr>\n",
       "        <tr>\n",
       "            <td>878803 </td> <td>BE  </td> <td>12/27/2011 23:52:00</td> <td>1/1/2012 6:00:00</td> <td>T          </td> <td>1/1/2012-5705-MR-12</td> <td>nan          </td>\n",
       "        </tr>\n",
       "        <tr>\n",
       "            <td>884542 </td> <td>BE  </td> <td>12/27/2011 23:52:00</td> <td>1/1/2012 6:00:00</td> <td>T          </td> <td>1/1/2012-5705-MR-12</td> <td>nan          </td>\n",
       "        </tr>\n",
       "        <tr>\n",
       "            <td>981070 </td> <td>BE  </td> <td>12/26/2011 17:48:00</td> <td>1/1/2012 6:00:00</td> <td>T          </td> <td>1/1/2012-5705-MR-12</td> <td>nan          </td>\n",
       "        </tr>\n",
       "        <tr>\n",
       "            <td>1020624</td> <td>BE  </td> <td>12/25/2011 2:36:00 </td> <td>1/1/2012 6:00:00</td> <td>T          </td> <td>1/1/2012-5705-MR-12</td> <td>nan          </td>\n",
       "        </tr>\n",
       "        <tr>\n",
       "            <td>1285168</td> <td>BE  </td> <td>12/22/2011 20:11:00</td> <td>1/1/2012 6:00:00</td> <td>T          </td> <td>1/1/2012-5705-MR-12</td> <td>nan          </td>\n",
       "        </tr>\n",
       "        <tr>\n",
       "            <td>1608827</td> <td>BE  </td> <td>12/26/2011 17:48:00</td> <td>1/1/2012 6:00:00</td> <td>T          </td> <td>1/1/2012-5705-MR-12</td> <td>nan          </td>\n",
       "        </tr>\n",
       "    </tbody>\n",
       "</table>"
      ],
      "text/plain": [
       "VIN     | LOC  | Arrive Time         | Depart Time      | Depart Mode | Shipment ID         | Shipment Cost\n",
       "1       | BE   | 12/23/2011 22:43:00 | 1/1/2012 6:00:00 | T           | 1/1/2012-5705-MR-12 | nan\n",
       "22445   | BE   | 12/23/2011 22:27:00 | 1/1/2012 6:00:00 | T           | 1/1/2012-5705-MR-12 | nan\n",
       "52841   | BE   | 12/27/2011 20:34:00 | 1/1/2012 6:00:00 | T           | 1/1/2012-5705-MR-12 | nan\n",
       "526177  | BE   | 12/27/2011 21:07:00 | 1/1/2012 6:00:00 | T           | 1/1/2012-5705-MR-12 | nan\n",
       "878803  | BE   | 12/27/2011 23:52:00 | 1/1/2012 6:00:00 | T           | 1/1/2012-5705-MR-12 | nan\n",
       "884542  | BE   | 12/27/2011 23:52:00 | 1/1/2012 6:00:00 | T           | 1/1/2012-5705-MR-12 | nan\n",
       "981070  | BE   | 12/26/2011 17:48:00 | 1/1/2012 6:00:00 | T           | 1/1/2012-5705-MR-12 | nan\n",
       "1020624 | BE   | 12/25/2011 2:36:00  | 1/1/2012 6:00:00 | T           | 1/1/2012-5705-MR-12 | nan\n",
       "1285168 | BE   | 12/22/2011 20:11:00 | 1/1/2012 6:00:00 | T           | 1/1/2012-5705-MR-12 | nan\n",
       "1608827 | BE   | 12/26/2011 17:48:00 | 1/1/2012 6:00:00 | T           | 1/1/2012-5705-MR-12 | nan"
      ]
     },
     "execution_count": 9,
     "metadata": {},
     "output_type": "execute_result"
    }
   ],
   "source": [
    "Routing_Details.where('Shipment ID','1/1/2012-5705-MR-12')"
   ]
  },
  {
   "cell_type": "code",
   "execution_count": 10,
   "metadata": {},
   "outputs": [
    {
     "data": {
      "text/html": [
       "<table border=\"1\" class=\"dataframe\">\n",
       "    <thead>\n",
       "        <tr>\n",
       "            <th>VIN</th> <th>LOC</th> <th>Arrive Time</th> <th>Depart Time</th> <th>Depart Mode</th> <th>Shipment ID</th> <th>Shipment Cost</th>\n",
       "        </tr>\n",
       "    </thead>\n",
       "    <tbody>\n",
       "        <tr>\n",
       "            <td>1   </td> <td>BE  </td> <td>12/23/2011 22:43:00</td> <td>1/1/2012 6:00:00  </td> <td>T          </td> <td>1/1/2012-5705-MR-12  </td> <td>nan          </td>\n",
       "        </tr>\n",
       "        <tr>\n",
       "            <td>34  </td> <td>BE  </td> <td>6/4/2011 10:49:00  </td> <td>6/12/2011 6:00:00 </td> <td>T          </td> <td>6/12/2011-5705-MR-8  </td> <td>nan          </td>\n",
       "        </tr>\n",
       "        <tr>\n",
       "            <td>47  </td> <td>BE  </td> <td>6/13/2011 9:08:00  </td> <td>6/18/2011 6:00:00 </td> <td>T          </td> <td>6/18/2011-5705-MR-13 </td> <td>nan          </td>\n",
       "        </tr>\n",
       "        <tr>\n",
       "            <td>58  </td> <td>BE  </td> <td>4/15/2012 0:13:00  </td> <td>4/19/2012 6:00:00 </td> <td>T          </td> <td>4/19/2012-5705-MR-16 </td> <td>nan          </td>\n",
       "        </tr>\n",
       "        <tr>\n",
       "            <td>63  </td> <td>BE  </td> <td>11/10/2011 17:37:00</td> <td>11/18/2011 6:00:00</td> <td>T          </td> <td>11/18/2011-5705-MR-14</td> <td>nan          </td>\n",
       "        </tr>\n",
       "        <tr>\n",
       "            <td>69  </td> <td>BE  </td> <td>11/4/2011 22:35:00 </td> <td>11/9/2011 6:00:00 </td> <td>T          </td> <td>11/9/2011-5705-MR-4  </td> <td>nan          </td>\n",
       "        </tr>\n",
       "        <tr>\n",
       "            <td>71  </td> <td>BE  </td> <td>5/17/2011 0:13:00  </td> <td>5/23/2011 6:00:00 </td> <td>T          </td> <td>5/23/2011-5705-MR-1  </td> <td>nan          </td>\n",
       "        </tr>\n",
       "        <tr>\n",
       "            <td>88  </td> <td>BE  </td> <td>7/1/2012 0:18:00   </td> <td>7/9/2012 6:00:00  </td> <td>T          </td> <td>7/9/2012-5705-MR-10  </td> <td>nan          </td>\n",
       "        </tr>\n",
       "        <tr>\n",
       "            <td>91  </td> <td>BE  </td> <td>7/6/2012 6:23:00   </td> <td>7/15/2012 6:00:00 </td> <td>T          </td> <td>7/15/2012-5705-MR-7  </td> <td>nan          </td>\n",
       "        </tr>\n",
       "        <tr>\n",
       "            <td>92  </td> <td>BE  </td> <td>2/22/2012 1:56:00  </td> <td>2/26/2012 6:00:00 </td> <td>T          </td> <td>2/26/2012-5705-MR-23 </td> <td>nan          </td>\n",
       "        </tr>\n",
       "    </tbody>\n",
       "</table>\n",
       "<p>... (114377 rows omitted)</p>"
      ],
      "text/plain": [
       "VIN  | LOC  | Arrive Time         | Depart Time        | Depart Mode | Shipment ID           | Shipment Cost\n",
       "1    | BE   | 12/23/2011 22:43:00 | 1/1/2012 6:00:00   | T           | 1/1/2012-5705-MR-12   | nan\n",
       "34   | BE   | 6/4/2011 10:49:00   | 6/12/2011 6:00:00  | T           | 6/12/2011-5705-MR-8   | nan\n",
       "47   | BE   | 6/13/2011 9:08:00   | 6/18/2011 6:00:00  | T           | 6/18/2011-5705-MR-13  | nan\n",
       "58   | BE   | 4/15/2012 0:13:00   | 4/19/2012 6:00:00  | T           | 4/19/2012-5705-MR-16  | nan\n",
       "63   | BE   | 11/10/2011 17:37:00 | 11/18/2011 6:00:00 | T           | 11/18/2011-5705-MR-14 | nan\n",
       "69   | BE   | 11/4/2011 22:35:00  | 11/9/2011 6:00:00  | T           | 11/9/2011-5705-MR-4   | nan\n",
       "71   | BE   | 5/17/2011 0:13:00   | 5/23/2011 6:00:00  | T           | 5/23/2011-5705-MR-1   | nan\n",
       "88   | BE   | 7/1/2012 0:18:00    | 7/9/2012 6:00:00   | T           | 7/9/2012-5705-MR-10   | nan\n",
       "91   | BE   | 7/6/2012 6:23:00    | 7/15/2012 6:00:00  | T           | 7/15/2012-5705-MR-7   | nan\n",
       "92   | BE   | 2/22/2012 1:56:00   | 2/26/2012 6:00:00  | T           | 2/26/2012-5705-MR-23  | nan\n",
       "... (114377 rows omitted)"
      ]
     },
     "execution_count": 10,
     "metadata": {},
     "output_type": "execute_result"
    }
   ],
   "source": [
    "Routing_Details.where('LOC','BE')"
   ]
  },
  {
   "cell_type": "code",
   "execution_count": null,
   "metadata": {},
   "outputs": [],
   "source": []
  }
 ],
 "metadata": {
  "kernelspec": {
   "display_name": "Python 3",
   "language": "python",
   "name": "python3"
  },
  "language_info": {
   "codemirror_mode": {
    "name": "ipython",
    "version": 3
   },
   "file_extension": ".py",
   "mimetype": "text/x-python",
   "name": "python",
   "nbconvert_exporter": "python",
   "pygments_lexer": "ipython3",
   "version": "3.6.4"
  }
 },
 "nbformat": 4,
 "nbformat_minor": 2
}
