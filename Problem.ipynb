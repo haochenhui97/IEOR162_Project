{
 "cells": [
  {
   "cell_type": "code",
   "execution_count": 4,
   "metadata": {},
   "outputs": [],
   "source": [
    "from datascience import *\n",
    "import datetime\n",
    "import matplotlib.pyplot as plt\n",
    "import numpy as np\n",
    "\n",
    "%matplotlib inline"
   ]
  },
  {
   "cell_type": "code",
   "execution_count": 8,
   "metadata": {},
   "outputs": [
    {
     "data": {
      "text/html": [
       "<table border=\"1\" class=\"dataframe\">\n",
       "    <thead>\n",
       "        <tr>\n",
       "            <th>VIN</th> <th>Plant</th> <th>Dealer</th> <th>Plant_Arrival_Time</th>\n",
       "        </tr>\n",
       "    </thead>\n",
       "    <tbody>\n",
       "        <tr>\n",
       "            <td>000003CD-DD91-4EAF-8CDB-D31A35CB4C65</td> <td>RO   </td> <td>14135 </td> <td>3/8/2015 1:53:00   </td>\n",
       "        </tr>\n",
       "        <tr>\n",
       "            <td>00000686-CBF0-455B-BDA8-85EAADCC31B9</td> <td>RO   </td> <td>13449 </td> <td>3/16/2015 2:58:00  </td>\n",
       "        </tr>\n",
       "        <tr>\n",
       "            <td>000017BF-BDF6-4B0B-88D5-46823B40DC1B</td> <td>RO   </td> <td>18672 </td> <td>3/31/2015 6:17:00  </td>\n",
       "        </tr>\n",
       "        <tr>\n",
       "            <td>00001999-A906-4391-A4DC-D4AC235EA6A3</td> <td>FF   </td> <td>13619 </td> <td>10/18/2015 16:58:00</td>\n",
       "        </tr>\n",
       "        <tr>\n",
       "            <td>00001EDD-CDE4-49EB-957A-6FB1FE093E80</td> <td>RO   </td> <td>16070 </td> <td>10/19/2015 4:35:00 </td>\n",
       "        </tr>\n",
       "        <tr>\n",
       "            <td>0000209E-135A-4EB7-B3CF-8B139BA3A24F</td> <td>3A   </td> <td>13782 </td> <td>6/27/2016 19:58:00 </td>\n",
       "        </tr>\n",
       "        <tr>\n",
       "            <td>0000253D-FB0F-4EB9-8FBB-F3B5F91C20C4</td> <td>RO   </td> <td>16070 </td> <td>2/13/2016 15:55:00 </td>\n",
       "        </tr>\n",
       "        <tr>\n",
       "            <td>000025D5-B3E3-40F2-B64E-FC0D92FE607A</td> <td>3A   </td> <td>16263 </td> <td>12/8/2015 8:46:00  </td>\n",
       "        </tr>\n",
       "        <tr>\n",
       "            <td>0000306A-CBB7-449C-A144-AC6EFEA1F8F3</td> <td>FF   </td> <td>16017 </td> <td>5/22/2015 3:01:00  </td>\n",
       "        </tr>\n",
       "        <tr>\n",
       "            <td>00003411-7D48-443E-93B9-47C9B6BABD05</td> <td>SO   </td> <td>14629 </td> <td>12/14/2015 22:16:00</td>\n",
       "        </tr>\n",
       "    </tbody>\n",
       "</table>\n",
       "<p>... (1866677 rows omitted)</p>"
      ],
      "text/plain": [
       "VIN                                  | Plant | Dealer | Plant_Arrival_Time\n",
       "000003CD-DD91-4EAF-8CDB-D31A35CB4C65 | RO    | 14135  | 3/8/2015 1:53:00\n",
       "00000686-CBF0-455B-BDA8-85EAADCC31B9 | RO    | 13449  | 3/16/2015 2:58:00\n",
       "000017BF-BDF6-4B0B-88D5-46823B40DC1B | RO    | 18672  | 3/31/2015 6:17:00\n",
       "00001999-A906-4391-A4DC-D4AC235EA6A3 | FF    | 13619  | 10/18/2015 16:58:00\n",
       "00001EDD-CDE4-49EB-957A-6FB1FE093E80 | RO    | 16070  | 10/19/2015 4:35:00\n",
       "0000209E-135A-4EB7-B3CF-8B139BA3A24F | 3A    | 13782  | 6/27/2016 19:58:00\n",
       "0000253D-FB0F-4EB9-8FBB-F3B5F91C20C4 | RO    | 16070  | 2/13/2016 15:55:00\n",
       "000025D5-B3E3-40F2-B64E-FC0D92FE607A | 3A    | 16263  | 12/8/2015 8:46:00\n",
       "0000306A-CBB7-449C-A144-AC6EFEA1F8F3 | FF    | 16017  | 5/22/2015 3:01:00\n",
       "00003411-7D48-443E-93B9-47C9B6BABD05 | SO    | 14629  | 12/14/2015 22:16:00\n",
       "... (1866677 rows omitted)"
      ]
     },
     "execution_count": 8,
     "metadata": {},
     "output_type": "execute_result"
    }
   ],
   "source": [
    "Problem = Table.read_table('Problem_VehicleShipmentRequirement.csv')\n",
    "Problem"
   ]
  },
  {
   "cell_type": "code",
   "execution_count": 31,
   "metadata": {},
   "outputs": [],
   "source": [
    "Location = Table.read_table('LocationLatLong.csv')\n",
    "VDC_cost = Table.read_table('VDCcost.csv')\n",
    "Logistics_cost = Table.read_table('Logistics_cost.csv')\n",
    "Existing_VDC = Table.read_table('ExistingVDC.csv')"
   ]
  },
  {
   "cell_type": "code",
   "execution_count": 21,
   "metadata": {},
   "outputs": [
    {
     "data": {
      "text/html": [
       "<table border=\"1\" class=\"dataframe\">\n",
       "    <thead>\n",
       "        <tr>\n",
       "            <th>VIN</th> <th>Plant</th> <th>Dealer</th> <th>Plant_Arrival_Time</th>\n",
       "        </tr>\n",
       "    </thead>\n",
       "    <tbody>\n",
       "        <tr>\n",
       "            <td>0000209E-135A-4EB7-B3CF-8B139BA3A24F</td> <td>3A   </td> <td>13782 </td> <td>6/27/2016 19:58:00 </td>\n",
       "        </tr>\n",
       "        <tr>\n",
       "            <td>000025D5-B3E3-40F2-B64E-FC0D92FE607A</td> <td>3A   </td> <td>16263 </td> <td>12/8/2015 8:46:00  </td>\n",
       "        </tr>\n",
       "        <tr>\n",
       "            <td>00005A68-41A6-427E-ADF6-C56EAF93CF7B</td> <td>3A   </td> <td>15716 </td> <td>2/11/2015 5:33:00  </td>\n",
       "        </tr>\n",
       "        <tr>\n",
       "            <td>00008C21-6A2B-4890-8A97-3002652B60A3</td> <td>3A   </td> <td>13196 </td> <td>4/19/2016 19:25:00 </td>\n",
       "        </tr>\n",
       "        <tr>\n",
       "            <td>0000DF31-1E60-404E-931D-403D0AA39673</td> <td>3A   </td> <td>16214 </td> <td>11/29/2016 11:54:00</td>\n",
       "        </tr>\n",
       "        <tr>\n",
       "            <td>0000E801-8446-4EE9-B60F-02F964F0D5DA</td> <td>3A   </td> <td>13777 </td> <td>6/8/2016 4:36:00   </td>\n",
       "        </tr>\n",
       "        <tr>\n",
       "            <td>000100F2-6A46-4F7A-8790-D7F0C8F2BE69</td> <td>3A   </td> <td>20783 </td> <td>4/6/2016 6:48:00   </td>\n",
       "        </tr>\n",
       "        <tr>\n",
       "            <td>00013567-B2FB-4360-9B72-D967F8045FE7</td> <td>3A   </td> <td>20564 </td> <td>9/13/2016 15:49:00 </td>\n",
       "        </tr>\n",
       "        <tr>\n",
       "            <td>0001513B-3B7E-4ABF-9DE7-795E9BA3B823</td> <td>3A   </td> <td>20092 </td> <td>11/19/2016 0:35:00 </td>\n",
       "        </tr>\n",
       "        <tr>\n",
       "            <td>00017A42-4FB7-4BB4-81B4-F07E3C25DBBA</td> <td>3A   </td> <td>20665 </td> <td>11/8/2016 2:07:00  </td>\n",
       "        </tr>\n",
       "    </tbody>\n",
       "</table>\n",
       "<p>... (422971 rows omitted)</p>"
      ],
      "text/plain": [
       "VIN                                  | Plant | Dealer | Plant_Arrival_Time\n",
       "0000209E-135A-4EB7-B3CF-8B139BA3A24F | 3A    | 13782  | 6/27/2016 19:58:00\n",
       "000025D5-B3E3-40F2-B64E-FC0D92FE607A | 3A    | 16263  | 12/8/2015 8:46:00\n",
       "00005A68-41A6-427E-ADF6-C56EAF93CF7B | 3A    | 15716  | 2/11/2015 5:33:00\n",
       "00008C21-6A2B-4890-8A97-3002652B60A3 | 3A    | 13196  | 4/19/2016 19:25:00\n",
       "0000DF31-1E60-404E-931D-403D0AA39673 | 3A    | 16214  | 11/29/2016 11:54:00\n",
       "0000E801-8446-4EE9-B60F-02F964F0D5DA | 3A    | 13777  | 6/8/2016 4:36:00\n",
       "000100F2-6A46-4F7A-8790-D7F0C8F2BE69 | 3A    | 20783  | 4/6/2016 6:48:00\n",
       "00013567-B2FB-4360-9B72-D967F8045FE7 | 3A    | 20564  | 9/13/2016 15:49:00\n",
       "0001513B-3B7E-4ABF-9DE7-795E9BA3B823 | 3A    | 20092  | 11/19/2016 0:35:00\n",
       "00017A42-4FB7-4BB4-81B4-F07E3C25DBBA | 3A    | 20665  | 11/8/2016 2:07:00\n",
       "... (422971 rows omitted)"
      ]
     },
     "execution_count": 21,
     "metadata": {},
     "output_type": "execute_result"
    }
   ],
   "source": [
    "Table.read_table('DataSet1/VehicleShipmentRequirement_DataSet1.csv')"
   ]
  },
  {
   "cell_type": "code",
   "execution_count": 30,
   "metadata": {},
   "outputs": [
    {
     "data": {
      "text/html": [
       "<table border=\"1\" class=\"dataframe\">\n",
       "    <thead>\n",
       "        <tr>\n",
       "            <th>Location</th> <th>Dealer?</th> <th>Latitude</th> <th>Longitude</th>\n",
       "        </tr>\n",
       "    </thead>\n",
       "    <tbody>\n",
       "        <tr>\n",
       "            <td>1B      </td> <td>0      </td> <td>19.66   </td> <td>170.44   </td>\n",
       "        </tr>\n",
       "        <tr>\n",
       "            <td>2M      </td> <td>0      </td> <td>32.31   </td> <td>-178.84  </td>\n",
       "        </tr>\n",
       "        <tr>\n",
       "            <td>3A      </td> <td>0      </td> <td>32.48   </td> <td>-178.36  </td>\n",
       "        </tr>\n",
       "        <tr>\n",
       "            <td>3F      </td> <td>0      </td> <td>22.51   </td> <td>172.08   </td>\n",
       "        </tr>\n",
       "        <tr>\n",
       "            <td>3W      </td> <td>0      </td> <td>25.18   </td> <td>176.83   </td>\n",
       "        </tr>\n",
       "        <tr>\n",
       "            <td>4C      </td> <td>0      </td> <td>24.09   </td> <td>162.16   </td>\n",
       "        </tr>\n",
       "        <tr>\n",
       "            <td>4J      </td> <td>0      </td> <td>21.9    </td> <td>163.14   </td>\n",
       "        </tr>\n",
       "        <tr>\n",
       "            <td>7J      </td> <td>0      </td> <td>21.93   </td> <td>169.4    </td>\n",
       "        </tr>\n",
       "        <tr>\n",
       "            <td>7M      </td> <td>0      </td> <td>20.16   </td> <td>170.06   </td>\n",
       "        </tr>\n",
       "        <tr>\n",
       "            <td>8F      </td> <td>0      </td> <td>32.47   </td> <td>-178.13  </td>\n",
       "        </tr>\n",
       "    </tbody>\n",
       "</table>\n",
       "<p>... (102 rows omitted)</p>"
      ],
      "text/plain": [
       "Location | Dealer? | Latitude | Longitude\n",
       "1B       | 0       | 19.66    | 170.44\n",
       "2M       | 0       | 32.31    | -178.84\n",
       "3A       | 0       | 32.48    | -178.36\n",
       "3F       | 0       | 22.51    | 172.08\n",
       "3W       | 0       | 25.18    | 176.83\n",
       "4C       | 0       | 24.09    | 162.16\n",
       "4J       | 0       | 21.9     | 163.14\n",
       "7J       | 0       | 21.93    | 169.4\n",
       "7M       | 0       | 20.16    | 170.06\n",
       "8F       | 0       | 32.47    | -178.13\n",
       "... (102 rows omitted)"
      ]
     },
     "execution_count": 30,
     "metadata": {},
     "output_type": "execute_result"
    }
   ],
   "source": [
    "Location.where('Dealer?',0)"
   ]
  },
  {
   "cell_type": "code",
   "execution_count": 24,
   "metadata": {},
   "outputs": [
    {
     "data": {
      "text/html": [
       "<table border=\"1\" class=\"dataframe\">\n",
       "    <thead>\n",
       "        <tr>\n",
       "            <th>Plant</th> <th>count</th>\n",
       "        </tr>\n",
       "    </thead>\n",
       "    <tbody>\n",
       "        <tr>\n",
       "            <td>3A   </td> <td>422981</td>\n",
       "        </tr>\n",
       "        <tr>\n",
       "            <td>FF   </td> <td>304684</td>\n",
       "        </tr>\n",
       "        <tr>\n",
       "            <td>RO   </td> <td>555245</td>\n",
       "        </tr>\n",
       "        <tr>\n",
       "            <td>SO   </td> <td>583777</td>\n",
       "        </tr>\n",
       "    </tbody>\n",
       "</table>"
      ],
      "text/plain": [
       "Plant | count\n",
       "3A    | 422981\n",
       "FF    | 304684\n",
       "RO    | 555245\n",
       "SO    | 583777"
      ]
     },
     "execution_count": 24,
     "metadata": {},
     "output_type": "execute_result"
    }
   ],
   "source": [
    "Problem.group('Plant')"
   ]
  },
  {
   "cell_type": "code",
   "execution_count": 39,
   "metadata": {},
   "outputs": [
    {
     "data": {
      "text/html": [
       "<table border=\"1\" class=\"dataframe\">\n",
       "    <thead>\n",
       "        <tr>\n",
       "            <th>VDC</th> <th>Capacity</th> <th>Rail Available</th> <th>Latitude</th> <th>Longitude</th>\n",
       "        </tr>\n",
       "    </thead>\n",
       "    <tbody>\n",
       "        <tr>\n",
       "            <td>3A  </td> <td>4730    </td> <td>True          </td> <td>32.48   </td> <td>-178.36  </td>\n",
       "        </tr>\n",
       "        <tr>\n",
       "            <td>3F  </td> <td>170     </td> <td>True          </td> <td>22.51   </td> <td>172.08   </td>\n",
       "        </tr>\n",
       "        <tr>\n",
       "            <td>4J  </td> <td>840     </td> <td>False         </td> <td>21.9    </td> <td>163.14   </td>\n",
       "        </tr>\n",
       "        <tr>\n",
       "            <td>7J  </td> <td>480     </td> <td>True          </td> <td>21.93   </td> <td>169.4    </td>\n",
       "        </tr>\n",
       "        <tr>\n",
       "            <td>7M  </td> <td>200     </td> <td>True          </td> <td>20.16   </td> <td>170.06   </td>\n",
       "        </tr>\n",
       "        <tr>\n",
       "            <td>BC  </td> <td>1150    </td> <td>False         </td> <td>29.5    </td> <td>171.76   </td>\n",
       "        </tr>\n",
       "        <tr>\n",
       "            <td>BE  </td> <td>1710    </td> <td>False         </td> <td>17.86   </td> <td>159.17   </td>\n",
       "        </tr>\n",
       "        <tr>\n",
       "            <td>BM  </td> <td>50      </td> <td>True          </td> <td>32.56   </td> <td>-152.74  </td>\n",
       "        </tr>\n",
       "        <tr>\n",
       "            <td>CE  </td> <td>810     </td> <td>True          </td> <td>21.87   </td> <td>174.25   </td>\n",
       "        </tr>\n",
       "        <tr>\n",
       "            <td>CW  </td> <td>40      </td> <td>False         </td> <td>19.9    </td> <td>169.95   </td>\n",
       "        </tr>\n",
       "    </tbody>\n",
       "</table>\n",
       "<p>... (34 rows omitted)</p>"
      ],
      "text/plain": [
       "VDC  | Capacity | Rail Available | Latitude | Longitude\n",
       "3A   | 4730     | True           | 32.48    | -178.36\n",
       "3F   | 170      | True           | 22.51    | 172.08\n",
       "4J   | 840      | False          | 21.9     | 163.14\n",
       "7J   | 480      | True           | 21.93    | 169.4\n",
       "7M   | 200      | True           | 20.16    | 170.06\n",
       "BC   | 1150     | False          | 29.5     | 171.76\n",
       "BE   | 1710     | False          | 17.86    | 159.17\n",
       "BM   | 50       | True           | 32.56    | -152.74\n",
       "CE   | 810      | True           | 21.87    | 174.25\n",
       "CW   | 40       | False          | 19.9     | 169.95\n",
       "... (34 rows omitted)"
      ]
     },
     "execution_count": 39,
     "metadata": {},
     "output_type": "execute_result"
    }
   ],
   "source": [
    "Existing_VDC = Table.read_table('ExistingVDC.csv')\n",
    "Existing_VDC = Existing_VDC.join('VDC',Location,'Location')\n",
    "Existing_VDC.drop('Dealer?')"
   ]
  },
  {
   "cell_type": "code",
   "execution_count": 43,
   "metadata": {},
   "outputs": [
    {
     "data": {
      "text/html": [
       "<table border=\"1\" class=\"dataframe\">\n",
       "    <thead>\n",
       "        <tr>\n",
       "            <th>VDC</th> <th>Capacity</th> <th>Rail Available</th> <th>Dealer?</th> <th>Latitude</th> <th>Longitude</th>\n",
       "        </tr>\n",
       "    </thead>\n",
       "    <tbody>\n",
       "        <tr>\n",
       "            <td>SO  </td> <td>5020    </td> <td>True          </td> <td>0      </td> <td>44.83   </td> <td>-176.64  </td>\n",
       "        </tr>\n",
       "    </tbody>\n",
       "</table>"
      ],
      "text/plain": [
       "VDC  | Capacity | Rail Available | Dealer? | Latitude | Longitude\n",
       "SO   | 5020     | True           | 0       | 44.83    | -176.64"
      ]
     },
     "execution_count": 43,
     "metadata": {},
     "output_type": "execute_result"
    }
   ],
   "source": [
    "Existing_VDC.where('VDC','SO')"
   ]
  },
  {
   "cell_type": "code",
   "execution_count": null,
   "metadata": {},
   "outputs": [],
   "source": [
    "Results Template 4_ShipDetails_DataSet1"
   ]
  }
 ],
 "metadata": {
  "kernelspec": {
   "display_name": "Python 3",
   "language": "python",
   "name": "python3"
  },
  "language_info": {
   "codemirror_mode": {
    "name": "ipython",
    "version": 3
   },
   "file_extension": ".py",
   "mimetype": "text/x-python",
   "name": "python",
   "nbconvert_exporter": "python",
   "pygments_lexer": "ipython3",
   "version": "3.6.4"
  }
 },
 "nbformat": 4,
 "nbformat_minor": 2
}
